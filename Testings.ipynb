{
 "cells": [
  {
   "cell_type": "code",
   "execution_count": 55,
   "id": "2a421d87",
   "metadata": {},
   "outputs": [],
   "source": [
    "import pandas as pd\n",
    "import pickle\n",
    "from tensorflow import keras\n",
    "from sklearn.metrics import accuracy_score"
   ]
  },
  {
   "cell_type": "code",
   "execution_count": 56,
   "id": "649b97b9",
   "metadata": {},
   "outputs": [],
   "source": [
    "#loading the model trained\n",
    "model = keras.models.load_model('my_model_with_relu.h5')"
   ]
  },
  {
   "cell_type": "code",
   "execution_count": 57,
   "id": "3fb52f36",
   "metadata": {},
   "outputs": [],
   "source": [
    "#data (9) is the actual file containing human names and functional account names\n",
    "df = pd.read_excel('data (9).xlsx')"
   ]
  },
  {
   "cell_type": "code",
   "execution_count": 58,
   "id": "35020b4b",
   "metadata": {},
   "outputs": [],
   "source": [
    "#loading the tokenizer\n",
    "with open('tokenizer.pickle', 'rb') as handle:\n",
    "    tokenizer = pickle.load(handle)"
   ]
  },
  {
   "cell_type": "code",
   "execution_count": 59,
   "id": "0da92de3",
   "metadata": {},
   "outputs": [],
   "source": [
    "new_records_sequences = tokenizer.texts_to_sequences(df['fullname'])\n",
    "new_records_padded = pad_sequences(new_records_sequences, maxlen=6)"
   ]
  },
  {
   "cell_type": "code",
   "execution_count": 60,
   "id": "594cd755",
   "metadata": {},
   "outputs": [
    {
     "name": "stdout",
     "output_type": "stream",
     "text": [
      "8/8 [==============================] - 1s 26ms/step\n"
     ]
    }
   ],
   "source": [
    "predictions = model.predict(new_records_padded)\n",
    "\n",
    "threshold = 0.5\n",
    "predicted_labels_f1 = (predictions > threshold).astype(int)\n",
    "\n",
    "df['predicted_label'] = predicted_labels_f1\n",
    "\n",
    "df['true_y'] = df['Label'].map({'Y': 1, 'N': 0})"
   ]
  },
  {
   "cell_type": "code",
   "execution_count": 61,
   "id": "9911bcdf",
   "metadata": {},
   "outputs": [],
   "source": [
    "accuracy = accuracy_score(df['true_y'], df['predicted_label'])"
   ]
  },
  {
   "cell_type": "code",
   "execution_count": 62,
   "id": "d9007f60",
   "metadata": {},
   "outputs": [
    {
     "data": {
      "text/plain": [
       "1.0"
      ]
     },
     "execution_count": 62,
     "metadata": {},
     "output_type": "execute_result"
    }
   ],
   "source": [
    "accuracy"
   ]
  },
  {
   "cell_type": "code",
   "execution_count": 63,
   "id": "dca8b35c",
   "metadata": {},
   "outputs": [],
   "source": [
    "df.to_excel(\"output.xlsx\", index=False)"
   ]
  },
  {
   "cell_type": "code",
   "execution_count": null,
   "id": "80790b79",
   "metadata": {},
   "outputs": [],
   "source": []
  },
  {
   "cell_type": "code",
   "execution_count": null,
   "id": "2eaaa5a4",
   "metadata": {},
   "outputs": [],
   "source": []
  },
  {
   "cell_type": "code",
   "execution_count": null,
   "id": "b3b432a5",
   "metadata": {},
   "outputs": [],
   "source": []
  },
  {
   "cell_type": "code",
   "execution_count": null,
   "id": "2ebc0925",
   "metadata": {},
   "outputs": [],
   "source": []
  },
  {
   "cell_type": "code",
   "execution_count": null,
   "id": "5c2e85df",
   "metadata": {},
   "outputs": [],
   "source": []
  }
 ],
 "metadata": {
  "kernelspec": {
   "display_name": "Python 3 (ipykernel)",
   "language": "python",
   "name": "python3"
  },
  "language_info": {
   "codemirror_mode": {
    "name": "ipython",
    "version": 3
   },
   "file_extension": ".py",
   "mimetype": "text/x-python",
   "name": "python",
   "nbconvert_exporter": "python",
   "pygments_lexer": "ipython3",
   "version": "3.10.9"
  }
 },
 "nbformat": 4,
 "nbformat_minor": 5
}
