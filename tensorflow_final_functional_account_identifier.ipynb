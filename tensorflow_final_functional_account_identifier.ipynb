{
 "cells": [
  {
   "cell_type": "code",
   "execution_count": 2,
   "id": "6b4d0128",
   "metadata": {},
   "outputs": [],
   "source": [
    "import pandas as pd\n",
    "import numpy as np\n",
    "from faker import Faker\n",
    "from sklearn.model_selection import train_test_split\n",
    "from tensorflow.keras.preprocessing.text import Tokenizer\n",
    "from tensorflow.keras.preprocessing.sequence import pad_sequences\n",
    "from tensorflow.keras.models import Sequential\n",
    "from tensorflow.keras.layers import Embedding, LSTM, Dense\n",
    "from tensorflow.keras.optimizers import Adam\n",
    "from sklearn.metrics import precision_recall_curve, roc_curve, auc, f1_score\n",
    "import matplotlib.pyplot as plt\n",
    "from tensorflow.keras.layers import Embedding, Dense, Flatten"
   ]
  },
  {
   "cell_type": "markdown",
   "id": "7ec5f1b7",
   "metadata": {},
   "source": [
    "# Fake Name Generator for training data"
   ]
  },
  {
   "cell_type": "code",
   "execution_count": 3,
   "id": "7165f947",
   "metadata": {},
   "outputs": [],
   "source": [
    "# generate 100k records of human names\n",
    "english_locales = [\n",
    "    'en',\n",
    "    'en_US',  # American English\n",
    "    'en_GB',  # British English\n",
    "    'en_AU',  # Australian English\n",
    "    'en_CA',  # Canadian English\n",
    "    'en_IN',  # Indian English\n",
    "    'en_PH',  # Philippine English\n",
    "    'en_IE',  # Irish English\n",
    "    'en_TH'   # Thai English\n",
    "]\n",
    "\n",
    "num_names_per_ethnicity = int(100000 / len(english_locales)) \n",
    "\n",
    "all_names = []\n",
    "\n",
    "for locale in english_locales:\n",
    "    fake = Faker(locale)\n",
    "    names = [fake.name() for _ in range(num_names_per_ethnicity)]\n",
    "    all_names.extend(names)"
   ]
  },
  {
   "cell_type": "code",
   "execution_count": 4,
   "id": "b8b9cbbd",
   "metadata": {},
   "outputs": [],
   "source": [
    "data = {'Name': all_names, 'Label': 1}\n",
    "df = pd.DataFrame(data)"
   ]
  },
  {
   "cell_type": "markdown",
   "id": "11c1fb3c",
   "metadata": {},
   "source": [
    "# Fake functional account name generator for training data"
   ]
  },
  {
   "cell_type": "code",
   "execution_count": 5,
   "id": "a66afca7",
   "metadata": {},
   "outputs": [],
   "source": [
    "data_functional = pd.read_excel('functional_account_name.xlsx')"
   ]
  },
  {
   "cell_type": "code",
   "execution_count": 6,
   "id": "b7621e04",
   "metadata": {},
   "outputs": [],
   "source": [
    "data_functional = data_functional[data_functional['Label'] == 'N']\n",
    "data_functional[['A','B']] = data_functional['fullname'].str.split(', ', expand=True)"
   ]
  },
  {
   "cell_type": "code",
   "execution_count": 7,
   "id": "2b14e7ab",
   "metadata": {},
   "outputs": [],
   "source": [
    "data_functional_a = data_functional['A'].tolist()\n",
    "data_functional_b = data_functional['B'].tolist()"
   ]
  },
  {
   "cell_type": "code",
   "execution_count": 8,
   "id": "07755c72",
   "metadata": {},
   "outputs": [],
   "source": [
    "#generate 100k records of functional account names that are like the ones in our system\n",
    "fake = Faker()\n",
    "\n",
    "# Function to generate inhuman names\n",
    "def generate_inhuman_names(num_names):\n",
    "    inhuman_names = [fake.random_element(elements=(data_functional_a + data_functional_b)) for _ in range(num_names)]\n",
    "    return inhuman_names\n",
    "\n",
    "num_inhuman_names = 100000  \n",
    "\n",
    "inhuman_first_names = generate_inhuman_names(num_inhuman_names)\n",
    "inhuman_last_names = generate_inhuman_names(num_inhuman_names)\n",
    "\n",
    "fullname = []\n",
    "\n",
    "for i in range(num_inhuman_names):\n",
    "    fullname.append(inhuman_first_names[i] + ' ' + inhuman_last_names[i])\n",
    "\n",
    "data_functional = {'Name': fullname, 'Label': 0}\n",
    "df_functional = pd.DataFrame(data_functional)"
   ]
  },
  {
   "cell_type": "code",
   "execution_count": 9,
   "id": "66078a1b",
   "metadata": {},
   "outputs": [],
   "source": [
    "train_df = pd.concat([df, df_functional], ignore_index=True)"
   ]
  },
  {
   "cell_type": "code",
   "execution_count": 10,
   "id": "2d910f9f",
   "metadata": {},
   "outputs": [],
   "source": [
    "X = train_df['Name']\n",
    "y = train_df['Label']"
   ]
  },
  {
   "cell_type": "markdown",
   "id": "641ff51b",
   "metadata": {},
   "source": [
    "# Model training"
   ]
  },
  {
   "cell_type": "code",
   "execution_count": 11,
   "id": "f88d82ba",
   "metadata": {},
   "outputs": [],
   "source": [
    "#pre-processing - tokenizing, and padding\n",
    "max_words = 100000 # Set an appropriate value\n",
    "tokenizer = Tokenizer(num_words=max_words)\n",
    "tokenizer.fit_on_texts(X)\n",
    "X_sequences = tokenizer.texts_to_sequences(X)"
   ]
  },
  {
   "cell_type": "code",
   "execution_count": 12,
   "id": "f5352fc5",
   "metadata": {},
   "outputs": [],
   "source": [
    "X_padded = pad_sequences(X_sequences)"
   ]
  },
  {
   "cell_type": "code",
   "execution_count": 13,
   "id": "fd2b717f",
   "metadata": {},
   "outputs": [],
   "source": [
    "X_train, X_test, y_train, y_test = train_test_split(X_padded, y, test_size=0.2, stratify = y)"
   ]
  },
  {
   "cell_type": "code",
   "execution_count": 16,
   "id": "3dc253a3",
   "metadata": {},
   "outputs": [],
   "source": [
    "model = Sequential()\n",
    "model.add(Embedding(input_dim=max_words, output_dim=2560, input_length=X_padded.shape[1]))\n",
    "#model.add(LSTM(64))\n",
    "#model.add(Dense(1, activation='sigmoid'))\n",
    "\n",
    "model.add(Flatten())  # Flatten the 3D embedding output\n",
    "model.add(Dense(256, activation='relu'))  # Add a dense layer\n",
    "model.add(Dense(1, activation='sigmoid'))"
   ]
  },
  {
   "cell_type": "code",
   "execution_count": 34,
   "id": "8dc84a73",
   "metadata": {},
   "outputs": [
    {
     "data": {
      "text/plain": [
       "6"
      ]
     },
     "execution_count": 34,
     "metadata": {},
     "output_type": "execute_result"
    }
   ],
   "source": [
    "X_padded.shape[1]"
   ]
  },
  {
   "cell_type": "code",
   "execution_count": 18,
   "id": "976387a6",
   "metadata": {},
   "outputs": [],
   "source": [
    "model.compile(loss='binary_crossentropy', optimizer=Adam(learning_rate=0.001), metrics=['accuracy'])"
   ]
  },
  {
   "cell_type": "code",
   "execution_count": 19,
   "id": "9ae6e804",
   "metadata": {},
   "outputs": [
    {
     "name": "stdout",
     "output_type": "stream",
     "text": [
      "Epoch 1/5\n",
      "57/57 [==============================] - 399s 7s/step - loss: 0.0868 - accuracy: 0.9589 - val_loss: 3.3581e-05 - val_accuracy: 1.0000\n",
      "Epoch 2/5\n",
      "57/57 [==============================] - 424s 7s/step - loss: 1.4508e-05 - accuracy: 1.0000 - val_loss: 2.6022e-05 - val_accuracy: 1.0000\n",
      "Epoch 3/5\n",
      "57/57 [==============================] - 468s 8s/step - loss: 1.2076e-05 - accuracy: 1.0000 - val_loss: 2.3333e-05 - val_accuracy: 1.0000\n",
      "Epoch 4/5\n",
      "57/57 [==============================] - 479s 8s/step - loss: 1.0368e-05 - accuracy: 1.0000 - val_loss: 2.0670e-05 - val_accuracy: 1.0000\n",
      "Epoch 5/5\n",
      "57/57 [==============================] - 474s 8s/step - loss: 8.8951e-06 - accuracy: 1.0000 - val_loss: 1.8009e-05 - val_accuracy: 1.0000\n",
      "1250/1250 [==============================] - 26s 21ms/step - loss: 1.4941e-05 - accuracy: 1.0000\n",
      "1.0\n"
     ]
    }
   ],
   "source": [
    "model.fit(X_train, y_train, epochs=5, batch_size=2560, validation_split=0.1)\n",
    "loss, accuracy = model.evaluate(X_test, y_test)\n",
    "print(accuracy)"
   ]
  },
  {
   "cell_type": "markdown",
   "id": "78e14f44",
   "metadata": {},
   "source": [
    "# Model Testing"
   ]
  },
  {
   "cell_type": "code",
   "execution_count": 21,
   "id": "47373c33",
   "metadata": {},
   "outputs": [
    {
     "name": "stdout",
     "output_type": "stream",
     "text": [
      "8/8 [==============================] - 0s 9ms/step\n"
     ]
    }
   ],
   "source": [
    "df = pd.read_excel('data (9).xlsx')\n",
    "df = df[['fullname', 'Label']]\n",
    "new_records_sequences = tokenizer.texts_to_sequences(df['fullname'])\n",
    "new_records_padded = pad_sequences(new_records_sequences, maxlen=X_padded.shape[1])\n",
    "predictions = model.predict(new_records_padded)\n",
    "df['prediction'] = predictions\n",
    "df['Label'] = df['Label'].map({'Y': 1, 'N': 0})"
   ]
  },
  {
   "cell_type": "code",
   "execution_count": 22,
   "id": "9f64f982",
   "metadata": {},
   "outputs": [],
   "source": [
    "precision, recall, thresholds = precision_recall_curve(df['Label'], df['prediction'])"
   ]
  },
  {
   "cell_type": "code",
   "execution_count": 23,
   "id": "9d7f2fd4",
   "metadata": {},
   "outputs": [
    {
     "data": {
      "text/plain": [
       "0.99833125"
      ]
     },
     "execution_count": 23,
     "metadata": {},
     "output_type": "execute_result"
    }
   ],
   "source": [
    "f1_scores = 2 * (precision * recall) / (precision + recall)\n",
    "\n",
    "# Find the threshold that maximizes the F1-score\n",
    "best_threshold = thresholds[np.argmax(f1_scores)]\n",
    "\n",
    "best_threshold"
   ]
  },
  {
   "cell_type": "code",
   "execution_count": 26,
   "id": "0e97c766",
   "metadata": {},
   "outputs": [
    {
     "data": {
      "text/plain": [
       "1.9786178e-06"
      ]
     },
     "execution_count": 26,
     "metadata": {},
     "output_type": "execute_result"
    }
   ],
   "source": [
    "from sklearn.metrics import roc_curve, roc_auc_score\n",
    "\n",
    "fpr, tpr, thresholds = roc_curve(df['Label'], df['prediction'])\n",
    "auc = roc_auc_score(df['Label'], df['prediction'])\n",
    "optimal_threshold = thresholds[np.argmin(np.sqrt((1-fpr)**2 + tpr**2))]\n",
    "\n",
    "optimal_threshold"
   ]
  },
  {
   "cell_type": "code",
   "execution_count": 47,
   "id": "577eb963",
   "metadata": {},
   "outputs": [
    {
     "name": "stdout",
     "output_type": "stream",
     "text": [
      "8/8 [==============================] - 0s 6ms/step\n"
     ]
    }
   ],
   "source": [
    "new_records = pd.read_excel('data (9).xlsx')\n",
    "\n",
    "new_records_sequences = tokenizer.texts_to_sequences(new_records['fullname'])\n",
    "new_records_padded = pad_sequences(new_records_sequences, maxlen=X_padded.shape[1])\n",
    "\n",
    "\n",
    "predictions = model.predict(new_records_padded)\n",
    "\n",
    "\n",
    "threshold = best_threshold\n",
    "predicted_labels_f1 = (predictions > best_threshold).astype(int)\n",
    "predicted_labels_roc = (predictions > optimal_threshold).astype(int)\n",
    "predicted_labels_normal = (predictions > 0.5).astype(int)\n",
    "\n",
    "\n",
    "new_records['predicted_label_f1'] = predicted_labels_f1\n",
    "new_records['predicted_label_roc'] = predicted_labels_roc\n",
    "new_records['predicted_label_normal'] = predicted_labels_normal\n",
    "\n",
    "\n",
    "new_records['true_y'] = new_records['Label'].map({'Y': 1, 'N': 0})"
   ]
  },
  {
   "cell_type": "code",
   "execution_count": 48,
   "id": "2b7f1d6d",
   "metadata": {},
   "outputs": [
    {
     "data": {
      "text/plain": [
       "array([[9.99797046e-01],\n",
       "       [9.99999583e-01],\n",
       "       [9.99701083e-01],\n",
       "       [9.99989748e-01],\n",
       "       [9.99959648e-01],\n",
       "       [9.99909282e-01],\n",
       "       [9.99980986e-01],\n",
       "       [9.99991059e-01],\n",
       "       [9.99901474e-01],\n",
       "       [9.98331249e-01],\n",
       "       [9.99980986e-01],\n",
       "       [9.98331249e-01],\n",
       "       [9.99996364e-01],\n",
       "       [9.99993145e-01],\n",
       "       [9.98331249e-01],\n",
       "       [9.99987423e-01],\n",
       "       [9.99764323e-01],\n",
       "       [9.99998569e-01],\n",
       "       [9.99989986e-01],\n",
       "       [9.99995589e-01],\n",
       "       [9.99999046e-01],\n",
       "       [9.98331249e-01],\n",
       "       [9.99999583e-01],\n",
       "       [9.98331249e-01],\n",
       "       [9.99969602e-01],\n",
       "       [9.99999583e-01],\n",
       "       [9.98331249e-01],\n",
       "       [9.99980986e-01],\n",
       "       [9.98331249e-01],\n",
       "       [9.99998927e-01],\n",
       "       [9.99999523e-01],\n",
       "       [9.99996364e-01],\n",
       "       [9.99998927e-01],\n",
       "       [9.98331249e-01],\n",
       "       [9.99755561e-01],\n",
       "       [6.31943658e-06],\n",
       "       [5.74902879e-06],\n",
       "       [9.02770898e-06],\n",
       "       [1.32882315e-05],\n",
       "       [9.98331249e-01],\n",
       "       [9.99988317e-01],\n",
       "       [9.98331249e-01],\n",
       "       [9.99961078e-01],\n",
       "       [9.98331249e-01],\n",
       "       [9.99995530e-01],\n",
       "       [9.99980628e-01],\n",
       "       [7.34113246e-06],\n",
       "       [1.01575133e-05],\n",
       "       [9.99643803e-01],\n",
       "       [9.99999464e-01],\n",
       "       [9.98331249e-01],\n",
       "       [9.98331249e-01],\n",
       "       [9.98331249e-01],\n",
       "       [9.98331249e-01],\n",
       "       [9.98331249e-01],\n",
       "       [9.98331249e-01],\n",
       "       [1.28344491e-05],\n",
       "       [9.99987364e-01],\n",
       "       [9.99943137e-01],\n",
       "       [9.99977946e-01],\n",
       "       [8.93788911e-06],\n",
       "       [1.00901043e-05],\n",
       "       [7.19726268e-06],\n",
       "       [1.13173310e-05],\n",
       "       [9.99999464e-01],\n",
       "       [5.62464356e-06],\n",
       "       [9.97739335e-06],\n",
       "       [1.30664203e-05],\n",
       "       [1.05240524e-05],\n",
       "       [1.22259298e-05],\n",
       "       [1.10255942e-05],\n",
       "       [8.53699385e-06],\n",
       "       [9.99979258e-01],\n",
       "       [9.99998271e-01],\n",
       "       [9.98859465e-01],\n",
       "       [9.99978423e-01],\n",
       "       [9.99985993e-01],\n",
       "       [9.99953687e-01],\n",
       "       [9.98331249e-01],\n",
       "       [9.99998748e-01],\n",
       "       [9.99988735e-01],\n",
       "       [9.99989986e-01],\n",
       "       [9.98331249e-01],\n",
       "       [9.99980927e-01],\n",
       "       [9.99997020e-01],\n",
       "       [1.46882076e-06],\n",
       "       [9.99908388e-01],\n",
       "       [9.99961078e-01],\n",
       "       [9.99985874e-01],\n",
       "       [9.98331249e-01],\n",
       "       [9.98331249e-01],\n",
       "       [9.99985993e-01],\n",
       "       [9.99905288e-01],\n",
       "       [9.98331249e-01],\n",
       "       [1.28775819e-05],\n",
       "       [9.99948561e-01],\n",
       "       [1.49637035e-05],\n",
       "       [9.99934971e-01],\n",
       "       [9.98331249e-01],\n",
       "       [9.99971211e-01],\n",
       "       [9.99720335e-01],\n",
       "       [9.99974310e-01],\n",
       "       [9.99920547e-01],\n",
       "       [9.98331249e-01],\n",
       "       [9.98331249e-01],\n",
       "       [9.99958158e-01],\n",
       "       [9.99917209e-01],\n",
       "       [9.98331249e-01],\n",
       "       [9.99835908e-01],\n",
       "       [9.98331249e-01],\n",
       "       [9.98331249e-01],\n",
       "       [9.99917030e-01],\n",
       "       [9.99998927e-01],\n",
       "       [9.99986827e-01],\n",
       "       [9.98331249e-01],\n",
       "       [9.99924898e-01],\n",
       "       [9.98331249e-01],\n",
       "       [9.99961793e-01],\n",
       "       [9.98331249e-01],\n",
       "       [1.17128752e-06],\n",
       "       [9.99983430e-01],\n",
       "       [9.99980688e-01],\n",
       "       [9.99989629e-01],\n",
       "       [9.99947011e-01],\n",
       "       [9.98331249e-01],\n",
       "       [9.99919415e-01],\n",
       "       [9.98331249e-01],\n",
       "       [1.53764977e-05],\n",
       "       [1.44089590e-05],\n",
       "       [4.13990483e-06],\n",
       "       [1.64357207e-05],\n",
       "       [9.98331249e-01],\n",
       "       [9.98331249e-01],\n",
       "       [9.99985576e-01],\n",
       "       [9.99742806e-01],\n",
       "       [9.99965966e-01],\n",
       "       [9.98331249e-01],\n",
       "       [9.99999106e-01],\n",
       "       [9.99577880e-01],\n",
       "       [9.99924898e-01],\n",
       "       [9.99986827e-01],\n",
       "       [9.99987006e-01],\n",
       "       [1.39202803e-05],\n",
       "       [5.68185033e-06],\n",
       "       [9.99989629e-01],\n",
       "       [9.99983966e-01],\n",
       "       [9.99969661e-01],\n",
       "       [9.98331249e-01],\n",
       "       [9.99995112e-01],\n",
       "       [6.07838183e-06],\n",
       "       [1.82759668e-05],\n",
       "       [1.26075474e-05],\n",
       "       [4.55180134e-06],\n",
       "       [3.53806968e-06],\n",
       "       [9.98331249e-01],\n",
       "       [8.66821483e-06],\n",
       "       [5.13378245e-06],\n",
       "       [9.99980986e-01],\n",
       "       [1.34884276e-05],\n",
       "       [7.03604655e-06],\n",
       "       [9.99997914e-01],\n",
       "       [9.99969661e-01],\n",
       "       [9.99850512e-01],\n",
       "       [9.98331249e-01],\n",
       "       [9.98331249e-01],\n",
       "       [9.99988556e-01],\n",
       "       [9.98331249e-01],\n",
       "       [9.99867558e-01],\n",
       "       [9.99890924e-01],\n",
       "       [9.99856710e-01],\n",
       "       [9.99995112e-01],\n",
       "       [9.99921799e-01],\n",
       "       [9.99975920e-01],\n",
       "       [9.99977946e-01],\n",
       "       [9.25368931e-06],\n",
       "       [9.98331249e-01],\n",
       "       [9.99988616e-01],\n",
       "       [9.99717474e-01],\n",
       "       [9.98331249e-01],\n",
       "       [9.98331249e-01],\n",
       "       [9.98331249e-01],\n",
       "       [9.99977946e-01],\n",
       "       [9.99991119e-01],\n",
       "       [1.15927662e-06],\n",
       "       [9.99997914e-01],\n",
       "       [9.98331249e-01],\n",
       "       [9.99987960e-01],\n",
       "       [9.99999106e-01],\n",
       "       [9.99994338e-01],\n",
       "       [9.99999344e-01],\n",
       "       [9.99943674e-01],\n",
       "       [2.98117720e-06],\n",
       "       [9.99927402e-01],\n",
       "       [9.98331249e-01],\n",
       "       [9.76817410e-06],\n",
       "       [9.70505243e-06],\n",
       "       [1.16429519e-05],\n",
       "       [8.14733448e-06],\n",
       "       [1.72751588e-05],\n",
       "       [1.70932235e-05],\n",
       "       [1.34977954e-05],\n",
       "       [9.98331249e-01],\n",
       "       [9.99978542e-01],\n",
       "       [9.99989986e-01],\n",
       "       [9.99967396e-01],\n",
       "       [9.99989986e-01],\n",
       "       [9.99989986e-01],\n",
       "       [9.98331249e-01],\n",
       "       [9.99989986e-01],\n",
       "       [9.98331249e-01],\n",
       "       [9.99989986e-01],\n",
       "       [9.98331249e-01],\n",
       "       [9.99998331e-01],\n",
       "       [9.99989986e-01],\n",
       "       [9.98331249e-01],\n",
       "       [9.98331249e-01],\n",
       "       [9.99920428e-01],\n",
       "       [9.99989986e-01],\n",
       "       [9.99967396e-01],\n",
       "       [9.98331249e-01],\n",
       "       [9.99989986e-01],\n",
       "       [9.98331249e-01],\n",
       "       [9.99945521e-01],\n",
       "       [9.99989986e-01],\n",
       "       [9.98331249e-01],\n",
       "       [9.98331249e-01],\n",
       "       [9.99978542e-01],\n",
       "       [9.99989986e-01],\n",
       "       [9.98331249e-01],\n",
       "       [9.99989986e-01],\n",
       "       [9.98331249e-01],\n",
       "       [9.99920428e-01],\n",
       "       [9.99999285e-01],\n",
       "       [9.99989986e-01],\n",
       "       [9.98331249e-01],\n",
       "       [9.98331249e-01],\n",
       "       [9.99978542e-01],\n",
       "       [6.73610475e-06],\n",
       "       [5.13417945e-06],\n",
       "       [5.33174489e-06],\n",
       "       [4.20422475e-06],\n",
       "       [9.99901533e-01],\n",
       "       [3.33335038e-06],\n",
       "       [1.97861777e-06],\n",
       "       [3.88171520e-06],\n",
       "       [4.14222313e-06],\n",
       "       [3.04081050e-06],\n",
       "       [4.43076942e-06],\n",
       "       [9.98331249e-01],\n",
       "       [7.76015531e-06],\n",
       "       [5.71461851e-06],\n",
       "       [9.98331249e-01],\n",
       "       [9.98331249e-01],\n",
       "       [9.99980211e-01]], dtype=float32)"
      ]
     },
     "execution_count": 48,
     "metadata": {},
     "output_type": "execute_result"
    }
   ],
   "source": [
    "predictions"
   ]
  },
  {
   "cell_type": "code",
   "execution_count": 49,
   "id": "4c120597",
   "metadata": {},
   "outputs": [],
   "source": [
    "from sklearn.metrics import accuracy_score\n",
    "accuracy_f1 = accuracy_score(new_records['true_y'], new_records['predicted_label_f1'])\n",
    "accuracy_roc = accuracy_score(new_records['true_y'], new_records['predicted_label_roc'])\n",
    "accuracy_normal = accuracy_score(new_records['true_y'], new_records['predicted_label_normal'])"
   ]
  },
  {
   "cell_type": "code",
   "execution_count": 50,
   "id": "f152d478",
   "metadata": {},
   "outputs": [
    {
     "data": {
      "text/plain": [
       "(0.7440944881889764, 0.7795275590551181, 0.9960629921259843)"
      ]
     },
     "execution_count": 50,
     "metadata": {},
     "output_type": "execute_result"
    }
   ],
   "source": [
    "accuracy_f1, accuracy_roc, accuracy_normal"
   ]
  },
  {
   "cell_type": "markdown",
   "id": "5baf9a29",
   "metadata": {},
   "source": [
    "# Model Saving"
   ]
  },
  {
   "cell_type": "code",
   "execution_count": 32,
   "id": "104d271d",
   "metadata": {},
   "outputs": [
    {
     "name": "stderr",
     "output_type": "stream",
     "text": [
      "C:\\Users\\206765511\\AppData\\Local\\anaconda3\\lib\\site-packages\\keras\\src\\engine\\training.py:3079: UserWarning: You are saving your model as an HDF5 file via `model.save()`. This file format is considered legacy. We recommend using instead the native Keras format, e.g. `model.save('my_model.keras')`.\n",
      "  saving_api.save_model(\n"
     ]
    }
   ],
   "source": [
    "from tensorflow import keras\n",
    "model.save('my_model_with_relu.h5')"
   ]
  },
  {
   "cell_type": "code",
   "execution_count": 33,
   "id": "8f3f96fe",
   "metadata": {},
   "outputs": [],
   "source": [
    "import pickle\n",
    "\n",
    "# Assuming 'tokenizer' is your Tokenizer object\n",
    "with open('tokenizer.pickle', 'wb') as handle:\n",
    "    pickle.dump(tokenizer, handle, protocol=pickle.HIGHEST_PROTOCOL)"
   ]
  },
  {
   "cell_type": "code",
   "execution_count": null,
   "id": "4fed30c2",
   "metadata": {},
   "outputs": [],
   "source": []
  },
  {
   "cell_type": "code",
   "execution_count": null,
   "id": "b8da3583",
   "metadata": {},
   "outputs": [],
   "source": []
  },
  {
   "cell_type": "code",
   "execution_count": null,
   "id": "c55f3d22",
   "metadata": {},
   "outputs": [],
   "source": []
  },
  {
   "cell_type": "code",
   "execution_count": null,
   "id": "8498b5c4",
   "metadata": {},
   "outputs": [],
   "source": []
  },
  {
   "cell_type": "code",
   "execution_count": null,
   "id": "b38e131f",
   "metadata": {},
   "outputs": [],
   "source": []
  },
  {
   "cell_type": "code",
   "execution_count": null,
   "id": "58d46151",
   "metadata": {},
   "outputs": [],
   "source": []
  },
  {
   "cell_type": "code",
   "execution_count": null,
   "id": "380227d9",
   "metadata": {},
   "outputs": [],
   "source": []
  },
  {
   "cell_type": "code",
   "execution_count": null,
   "id": "80a3c85f",
   "metadata": {},
   "outputs": [],
   "source": []
  },
  {
   "cell_type": "code",
   "execution_count": null,
   "id": "4dd55fe8",
   "metadata": {},
   "outputs": [],
   "source": []
  },
  {
   "cell_type": "code",
   "execution_count": null,
   "id": "4b4befae",
   "metadata": {},
   "outputs": [],
   "source": []
  }
 ],
 "metadata": {
  "kernelspec": {
   "display_name": "Python 3 (ipykernel)",
   "language": "python",
   "name": "python3"
  },
  "language_info": {
   "codemirror_mode": {
    "name": "ipython",
    "version": 3
   },
   "file_extension": ".py",
   "mimetype": "text/x-python",
   "name": "python",
   "nbconvert_exporter": "python",
   "pygments_lexer": "ipython3",
   "version": "3.10.9"
  }
 },
 "nbformat": 4,
 "nbformat_minor": 5
}
